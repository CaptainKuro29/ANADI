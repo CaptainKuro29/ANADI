{
 "cells": [
  {
   "cell_type": "code",
   "execution_count": 1,
   "id": "e3c475fc-765c-4a13-a37f-a4742f2e1857",
   "metadata": {},
   "outputs": [
    {
     "name": "stdout",
     "output_type": "stream",
     "text": [
      "<class 'pandas.core.frame.DataFrame'>\n",
      "RangeIndex: 2111 entries, 0 to 2110\n",
      "Data columns (total 18 columns):\n",
      " #   Column                        Non-Null Count  Dtype  \n",
      "---  ------                        --------------  -----  \n",
      " 0   Unnamed: 0                    2111 non-null   int64  \n",
      " 1   Genero                        2111 non-null   object \n",
      " 2   Idade                         2111 non-null   float64\n",
      " 3   Altura                        2111 non-null   float64\n",
      " 4   Peso                          2111 non-null   float64\n",
      " 5   Historico_obesidade_familiar  2111 non-null   object \n",
      " 6   FCCAC                         2111 non-null   object \n",
      " 7   FCV                           2111 non-null   float64\n",
      " 8   NRP                           2111 non-null   float64\n",
      " 9   CCER                          2111 non-null   object \n",
      " 10  Fumador                       2111 non-null   object \n",
      " 11  CA                            2111 non-null   float64\n",
      " 12  MCC                           2111 non-null   object \n",
      " 13  FAF                           2111 non-null   float64\n",
      " 14  TUDE                          2111 non-null   float64\n",
      " 15  CBA                           2111 non-null   object \n",
      " 16  TRANS                         2111 non-null   object \n",
      " 17  Label                         2111 non-null   object \n",
      "dtypes: float64(8), int64(1), object(9)\n",
      "memory usage: 297.0+ KB\n"
     ]
    },
    {
     "data": {
      "text/plain": [
       "((2111, 18),\n",
       " None,\n",
       "    Unnamed: 0     Genero  Idade  Altura  Peso Historico_obesidade_familiar  \\\n",
       " 0           0   Feminino   21.0    1.62  64.0                          Sim   \n",
       " 1           1   Feminino   21.0    1.52  56.0                          Sim   \n",
       " 2           2  Masculino   23.0    1.80  77.0                          Sim   \n",
       " 3           3  Masculino   27.0    1.80  87.0                          Nao   \n",
       " 4           4  Masculino   22.0    1.78  89.8                          Nao   \n",
       " \n",
       "   FCCAC  FCV  NRP            CCER Fumador   CA  MCC  FAF  TUDE  \\\n",
       " 0   Nao  2.0  3.0  Ocasionalmente     Nao  2.0  Nao  0.0   1.0   \n",
       " 1   Nao  3.0  3.0  Ocasionalmente     Sim  3.0  Sim  3.0   0.0   \n",
       " 2   Nao  2.0  3.0  Ocasionalmente     Nao  2.0  Nao  2.0   1.0   \n",
       " 3   Nao  3.0  3.0  Ocasionalmente     Nao  2.0  Nao  2.0   0.0   \n",
       " 4   Nao  2.0  1.0  Ocasionalmente     Nao  2.0  Nao  0.0   0.0   \n",
       " \n",
       "               CBA                 TRANS                 Label  \n",
       " 0             Nao  Transportes_Publicos           Peso_Normal  \n",
       " 1  Ocasionalmente  Transportes_Publicos           Peso_Normal  \n",
       " 2  Frequentemente  Transportes_Publicos           Peso_Normal  \n",
       " 3  Frequentemente             Caminhada   Excesso_Peso_Grau_I  \n",
       " 4  Ocasionalmente  Transportes_Publicos  Excesso_Peso_Grau_II  )"
      ]
     },
     "execution_count": 1,
     "metadata": {},
     "output_type": "execute_result"
    }
   ],
   "source": [
    "import pandas as pd\n",
    "\n",
    "# Carregar os dados\n",
    "file_path = 'Dados_Trabalho_TP2.csv'\n",
    "df = pd.read_csv(file_path)\n",
    "\n",
    "# Verificar a dimensão do dataset\n",
    "dimensao = df.shape\n",
    "\n",
    "# Obter um sumário dos dados\n",
    "sumario = df.info()\n",
    "\n",
    "# Mostrar as primeiras linhas do dataset\n",
    "primeiras_linhas = df.head()\n",
    "\n",
    "dimensao, sumario, primeiras_linhas\n"
   ]
  },
  {
   "cell_type": "code",
   "execution_count": 2,
   "id": "9eb22e7a-a54c-4e7b-96bf-a6df33245a61",
   "metadata": {},
   "outputs": [
    {
     "data": {
      "text/html": [
       "<div>\n",
       "<style scoped>\n",
       "    .dataframe tbody tr th:only-of-type {\n",
       "        vertical-align: middle;\n",
       "    }\n",
       "\n",
       "    .dataframe tbody tr th {\n",
       "        vertical-align: top;\n",
       "    }\n",
       "\n",
       "    .dataframe thead th {\n",
       "        text-align: right;\n",
       "    }\n",
       "</style>\n",
       "<table border=\"1\" class=\"dataframe\">\n",
       "  <thead>\n",
       "    <tr style=\"text-align: right;\">\n",
       "      <th></th>\n",
       "      <th>Peso</th>\n",
       "      <th>Altura</th>\n",
       "      <th>IMC</th>\n",
       "    </tr>\n",
       "  </thead>\n",
       "  <tbody>\n",
       "    <tr>\n",
       "      <th>0</th>\n",
       "      <td>64.0</td>\n",
       "      <td>1.62</td>\n",
       "      <td>24.386526</td>\n",
       "    </tr>\n",
       "    <tr>\n",
       "      <th>1</th>\n",
       "      <td>56.0</td>\n",
       "      <td>1.52</td>\n",
       "      <td>24.238227</td>\n",
       "    </tr>\n",
       "    <tr>\n",
       "      <th>2</th>\n",
       "      <td>77.0</td>\n",
       "      <td>1.80</td>\n",
       "      <td>23.765432</td>\n",
       "    </tr>\n",
       "    <tr>\n",
       "      <th>3</th>\n",
       "      <td>87.0</td>\n",
       "      <td>1.80</td>\n",
       "      <td>26.851852</td>\n",
       "    </tr>\n",
       "    <tr>\n",
       "      <th>4</th>\n",
       "      <td>89.8</td>\n",
       "      <td>1.78</td>\n",
       "      <td>28.342381</td>\n",
       "    </tr>\n",
       "  </tbody>\n",
       "</table>\n",
       "</div>"
      ],
      "text/plain": [
       "   Peso  Altura        IMC\n",
       "0  64.0    1.62  24.386526\n",
       "1  56.0    1.52  24.238227\n",
       "2  77.0    1.80  23.765432\n",
       "3  87.0    1.80  26.851852\n",
       "4  89.8    1.78  28.342381"
      ]
     },
     "execution_count": 2,
     "metadata": {},
     "output_type": "execute_result"
    }
   ],
   "source": [
    "# Calcular o IMC\n",
    "df['IMC'] = df['Peso'] / ((df['Altura']) ** 2)\n",
    "\n",
    "# Verificar a inclusão do novo atributo\n",
    "df[['Peso', 'Altura', 'IMC']].head()"
   ]
  },
  {
   "cell_type": "code",
   "execution_count": 3,
   "id": "5fc4ea54-89a8-4f6a-9695-62b93230b640",
   "metadata": {},
   "outputs": [
    {
     "name": "stderr",
     "output_type": "stream",
     "text": [
      "C:\\Users\\diogo\\anaconda3\\Lib\\site-packages\\seaborn\\_oldcore.py:1119: FutureWarning: use_inf_as_na option is deprecated and will be removed in a future version. Convert inf values to NaN before operating instead.\n",
      "  with pd.option_context('mode.use_inf_as_na', True):\n"
     ]
    },
    {
     "data": {
      "image/png": "[encoded data removed]",
      "text/plain": [
       "<Figure size 1000x600 with 1 Axes>"
      ]
     },
     "metadata": {},
     "output_type": "display_data"
    }
   ],
   "source": [
    "import seaborn as sns\n",
    "import matplotlib.pyplot as plt\n",
    "\n",
    "# Distribuição do IMC\n",
    "plt.figure(figsize=(10, 6))\n",
    "sns.histplot(df['IMC'], kde=True)\n",
    "plt.title('Distribuição do IMC')\n",
    "plt.xlabel('IMC')\n",
    "plt.ylabel('Frequência')\n",
    "plt.show()\n"
   ]
  },
  {
   "cell_type": "code",
   "execution_count": 18,
   "id": "551c7b98-08b6-464a-8521-f03e86a068c1",
   "metadata": {},
   "outputs": [
    {
     "data": {
      "text/plain": [
       "Unnamed: 0                      0\n",
       "Genero                          0\n",
       "Idade                           0\n",
       "Altura                          0\n",
       "Peso                            0\n",
       "Historico_obesidade_familiar    0\n",
       "FCCAC                           0\n",
       "FCV                             0\n",
       "NRP                             0\n",
       "CCER                            0\n",
       "Fumador                         0\n",
       "CA                              0\n",
       "MCC                             0\n",
       "FAF                             0\n",
       "TUDE                            0\n",
       "CBA                             0\n",
       "TRANS                           0\n",
       "Label                           0\n",
       "IMC                             0\n",
       "dtype: int64"
      ]
     },
     "execution_count": 18,
     "metadata": {},
     "output_type": "execute_result"
    }
   ],
   "source": [
    "#4 a)\n",
    "\n",
    "# Identificação de valores ausentes\n",
    "valores_ausentes = df.isnull().sum()\n",
    "\n",
    "# Limpeza de dados ausentes (se aplicável)\n",
    "df_cleaned = df.dropna()\n",
    "\n",
    "valores_ausentes"
   ]
  },
  {
   "cell_type": "code",
   "execution_count": 5,
   "id": "30bdd449-6632-42ac-9b00-c6dffce7d713",
   "metadata": {},
   "outputs": [
    {
     "data": {
      "image/png": "[encoded data removed]",
      "text/plain": [
       "<Figure size 1000x600 with 1 Axes>"
      ]
     },
     "metadata": {},
     "output_type": "display_data"
    }
   ],
   "source": [
    "#b)\n",
    "# Boxplot para identificar outliers no IMC\n",
    "plt.figure(figsize=(10, 6))\n",
    "sns.boxplot(x=df_cleaned['IMC'])\n",
    "plt.title('Boxplot do IMC')\n",
    "plt.show()"
   ]
  },
  {
   "cell_type": "code",
   "execution_count": 6,
   "id": "e323c35a-e7f8-46cd-b573-966373f03148",
   "metadata": {},
   "outputs": [
    {
     "data": {
      "text/html": [
       "<div>\n",
       "<style scoped>\n",
       "    .dataframe tbody tr th:only-of-type {\n",
       "        vertical-align: middle;\n",
       "    }\n",
       "\n",
       "    .dataframe tbody tr th {\n",
       "        vertical-align: top;\n",
       "    }\n",
       "\n",
       "    .dataframe thead th {\n",
       "        text-align: right;\n",
       "    }\n",
       "</style>\n",
       "<table border=\"1\" class=\"dataframe\">\n",
       "  <thead>\n",
       "    <tr style=\"text-align: right;\">\n",
       "      <th></th>\n",
       "      <th>Atributo</th>\n",
       "      <th>Score</th>\n",
       "    </tr>\n",
       "  </thead>\n",
       "  <tbody>\n",
       "    <tr>\n",
       "      <th>2</th>\n",
       "      <td>Peso</td>\n",
       "      <td>1452.245126</td>\n",
       "    </tr>\n",
       "    <tr>\n",
       "      <th>3</th>\n",
       "      <td>FCV</td>\n",
       "      <td>72.074753</td>\n",
       "    </tr>\n",
       "    <tr>\n",
       "      <th>0</th>\n",
       "      <td>Idade</td>\n",
       "      <td>55.266528</td>\n",
       "    </tr>\n",
       "    <tr>\n",
       "      <th>4</th>\n",
       "      <td>NRP</td>\n",
       "      <td>18.417692</td>\n",
       "    </tr>\n",
       "    <tr>\n",
       "      <th>1</th>\n",
       "      <td>Altura</td>\n",
       "      <td>16.465658</td>\n",
       "    </tr>\n",
       "    <tr>\n",
       "      <th>5</th>\n",
       "      <td>CA</td>\n",
       "      <td>14.850987</td>\n",
       "    </tr>\n",
       "    <tr>\n",
       "      <th>6</th>\n",
       "      <td>FAF</td>\n",
       "      <td>12.074367</td>\n",
       "    </tr>\n",
       "    <tr>\n",
       "      <th>7</th>\n",
       "      <td>TUDE</td>\n",
       "      <td>7.196755</td>\n",
       "    </tr>\n",
       "  </tbody>\n",
       "</table>\n",
       "</div>"
      ],
      "text/plain": [
       "  Atributo        Score\n",
       "2     Peso  1452.245126\n",
       "3      FCV    72.074753\n",
       "0    Idade    55.266528\n",
       "4      NRP    18.417692\n",
       "1   Altura    16.465658\n",
       "5       CA    14.850987\n",
       "6      FAF    12.074367\n",
       "7     TUDE     7.196755"
      ]
     },
     "execution_count": 6,
     "metadata": {},
     "output_type": "execute_result"
    }
   ],
   "source": [
    "#c)\n",
    "from sklearn.feature_selection import SelectKBest, f_classif\n",
    "\n",
    "# Seleção de atributos usando ANOVA F-value\n",
    "X = df_cleaned.drop(columns=['IMC', 'Label', 'Unnamed: 0', 'Genero', 'Historico_obesidade_familiar', 'FCCAC', 'CCER', 'Fumador', 'MCC', 'CBA', 'TRANS'])\n",
    "y = df_cleaned['Label']\n",
    "\n",
    "selector = SelectKBest(score_func=f_classif, k='all')\n",
    "selector.fit(X, y)\n",
    "\n",
    "# Obter scores dos atributos\n",
    "scores = selector.scores_\n",
    "\n",
    "# DataFrame com os scores dos atributos\n",
    "atributos_selecionados = pd.DataFrame({\n",
    "    'Atributo': X.columns,\n",
    "    'Score': scores\n",
    "}).sort_values(by='Score', ascending=False)\n",
    "\n",
    "atributos_selecionados"
   ]
  },
  {
   "cell_type": "code",
   "execution_count": 7,
   "id": "770cce30-3fdf-40b5-ac89-6b67ab9e67d7",
   "metadata": {},
   "outputs": [
    {
     "data": {
      "text/html": [
       "<div>\n",
       "<style scoped>\n",
       "    .dataframe tbody tr th:only-of-type {\n",
       "        vertical-align: middle;\n",
       "    }\n",
       "\n",
       "    .dataframe tbody tr th {\n",
       "        vertical-align: top;\n",
       "    }\n",
       "\n",
       "    .dataframe thead th {\n",
       "        text-align: right;\n",
       "    }\n",
       "</style>\n",
       "<table border=\"1\" class=\"dataframe\">\n",
       "  <thead>\n",
       "    <tr style=\"text-align: right;\">\n",
       "      <th></th>\n",
       "      <th>Unnamed: 0</th>\n",
       "      <th>Genero</th>\n",
       "      <th>Idade</th>\n",
       "      <th>Altura</th>\n",
       "      <th>Peso</th>\n",
       "      <th>Historico_obesidade_familiar</th>\n",
       "      <th>FCCAC</th>\n",
       "      <th>FCV</th>\n",
       "      <th>NRP</th>\n",
       "      <th>CCER</th>\n",
       "      <th>Fumador</th>\n",
       "      <th>CA</th>\n",
       "      <th>MCC</th>\n",
       "      <th>FAF</th>\n",
       "      <th>TUDE</th>\n",
       "      <th>CBA</th>\n",
       "      <th>TRANS</th>\n",
       "      <th>Label</th>\n",
       "      <th>IMC</th>\n",
       "    </tr>\n",
       "  </thead>\n",
       "  <tbody>\n",
       "    <tr>\n",
       "      <th>0</th>\n",
       "      <td>-1.731231</td>\n",
       "      <td>Feminino</td>\n",
       "      <td>-0.522124</td>\n",
       "      <td>-0.875589</td>\n",
       "      <td>-0.862558</td>\n",
       "      <td>Sim</td>\n",
       "      <td>Nao</td>\n",
       "      <td>-0.785019</td>\n",
       "      <td>0.404153</td>\n",
       "      <td>Ocasionalmente</td>\n",
       "      <td>Nao</td>\n",
       "      <td>-0.013073</td>\n",
       "      <td>Nao</td>\n",
       "      <td>-1.188039</td>\n",
       "      <td>0.561997</td>\n",
       "      <td>Nao</td>\n",
       "      <td>Transportes_Publicos</td>\n",
       "      <td>Peso_Normal</td>\n",
       "      <td>-0.663421</td>\n",
       "    </tr>\n",
       "    <tr>\n",
       "      <th>1</th>\n",
       "      <td>-1.729590</td>\n",
       "      <td>Feminino</td>\n",
       "      <td>-0.522124</td>\n",
       "      <td>-1.947599</td>\n",
       "      <td>-1.168077</td>\n",
       "      <td>Sim</td>\n",
       "      <td>Nao</td>\n",
       "      <td>1.088342</td>\n",
       "      <td>0.404153</td>\n",
       "      <td>Ocasionalmente</td>\n",
       "      <td>Sim</td>\n",
       "      <td>1.618759</td>\n",
       "      <td>Sim</td>\n",
       "      <td>2.339750</td>\n",
       "      <td>-1.080625</td>\n",
       "      <td>Ocasionalmente</td>\n",
       "      <td>Transportes_Publicos</td>\n",
       "      <td>Peso_Normal</td>\n",
       "      <td>-0.681937</td>\n",
       "    </tr>\n",
       "    <tr>\n",
       "      <th>2</th>\n",
       "      <td>-1.727949</td>\n",
       "      <td>Masculino</td>\n",
       "      <td>-0.206889</td>\n",
       "      <td>1.054029</td>\n",
       "      <td>-0.366090</td>\n",
       "      <td>Sim</td>\n",
       "      <td>Nao</td>\n",
       "      <td>-0.785019</td>\n",
       "      <td>0.404153</td>\n",
       "      <td>Ocasionalmente</td>\n",
       "      <td>Nao</td>\n",
       "      <td>-0.013073</td>\n",
       "      <td>Nao</td>\n",
       "      <td>1.163820</td>\n",
       "      <td>0.561997</td>\n",
       "      <td>Frequentemente</td>\n",
       "      <td>Transportes_Publicos</td>\n",
       "      <td>Peso_Normal</td>\n",
       "      <td>-0.740967</td>\n",
       "    </tr>\n",
       "    <tr>\n",
       "      <th>3</th>\n",
       "      <td>-1.726308</td>\n",
       "      <td>Masculino</td>\n",
       "      <td>0.423582</td>\n",
       "      <td>1.054029</td>\n",
       "      <td>0.015808</td>\n",
       "      <td>Nao</td>\n",
       "      <td>Nao</td>\n",
       "      <td>1.088342</td>\n",
       "      <td>0.404153</td>\n",
       "      <td>Ocasionalmente</td>\n",
       "      <td>Nao</td>\n",
       "      <td>-0.013073</td>\n",
       "      <td>Nao</td>\n",
       "      <td>1.163820</td>\n",
       "      <td>-1.080625</td>\n",
       "      <td>Frequentemente</td>\n",
       "      <td>Caminhada</td>\n",
       "      <td>Excesso_Peso_Grau_I</td>\n",
       "      <td>-0.355619</td>\n",
       "    </tr>\n",
       "    <tr>\n",
       "      <th>4</th>\n",
       "      <td>-1.724667</td>\n",
       "      <td>Masculino</td>\n",
       "      <td>-0.364507</td>\n",
       "      <td>0.839627</td>\n",
       "      <td>0.122740</td>\n",
       "      <td>Nao</td>\n",
       "      <td>Nao</td>\n",
       "      <td>-0.785019</td>\n",
       "      <td>-2.167023</td>\n",
       "      <td>Ocasionalmente</td>\n",
       "      <td>Nao</td>\n",
       "      <td>-0.013073</td>\n",
       "      <td>Nao</td>\n",
       "      <td>-1.188039</td>\n",
       "      <td>-1.080625</td>\n",
       "      <td>Ocasionalmente</td>\n",
       "      <td>Transportes_Publicos</td>\n",
       "      <td>Excesso_Peso_Grau_II</td>\n",
       "      <td>-0.169522</td>\n",
       "    </tr>\n",
       "  </tbody>\n",
       "</table>\n",
       "</div>"
      ],
      "text/plain": [
       "   Unnamed: 0     Genero     Idade    Altura      Peso  \\\n",
       "0   -1.731231   Feminino -0.522124 -0.875589 -0.862558   \n",
       "1   -1.729590   Feminino -0.522124 -1.947599 -1.168077   \n",
       "2   -1.727949  Masculino -0.206889  1.054029 -0.366090   \n",
       "3   -1.726308  Masculino  0.423582  1.054029  0.015808   \n",
       "4   -1.724667  Masculino -0.364507  0.839627  0.122740   \n",
       "\n",
       "  Historico_obesidade_familiar FCCAC       FCV       NRP            CCER  \\\n",
       "0                          Sim   Nao -0.785019  0.404153  Ocasionalmente   \n",
       "1                          Sim   Nao  1.088342  0.404153  Ocasionalmente   \n",
       "2                          Sim   Nao -0.785019  0.404153  Ocasionalmente   \n",
       "3                          Nao   Nao  1.088342  0.404153  Ocasionalmente   \n",
       "4                          Nao   Nao -0.785019 -2.167023  Ocasionalmente   \n",
       "\n",
       "  Fumador        CA  MCC       FAF      TUDE             CBA  \\\n",
       "0     Nao -0.013073  Nao -1.188039  0.561997             Nao   \n",
       "1     Sim  1.618759  Sim  2.339750 -1.080625  Ocasionalmente   \n",
       "2     Nao -0.013073  Nao  1.163820  0.561997  Frequentemente   \n",
       "3     Nao -0.013073  Nao  1.163820 -1.080625  Frequentemente   \n",
       "4     Nao -0.013073  Nao -1.188039 -1.080625  Ocasionalmente   \n",
       "\n",
       "                  TRANS                 Label       IMC  \n",
       "0  Transportes_Publicos           Peso_Normal -0.663421  \n",
       "1  Transportes_Publicos           Peso_Normal -0.681937  \n",
       "2  Transportes_Publicos           Peso_Normal -0.740967  \n",
       "3             Caminhada   Excesso_Peso_Grau_I -0.355619  \n",
       "4  Transportes_Publicos  Excesso_Peso_Grau_II -0.169522  "
      ]
     },
     "execution_count": 7,
     "metadata": {},
     "output_type": "execute_result"
    }
   ],
   "source": [
    "#d)\n",
    "from sklearn.preprocessing import StandardScaler\n",
    "\n",
    "# Normalização dos dados numéricos\n",
    "numerical_features = df_cleaned.select_dtypes(include=['float64', 'int64']).columns\n",
    "scaler = StandardScaler()\n",
    "df_cleaned[numerical_features] = scaler.fit_transform(df_cleaned[numerical_features])\n",
    "\n",
    "# Verificar a normalização\n",
    "df_cleaned.head()"
   ]
  },
  {
   "cell_type": "code",
   "execution_count": 8,
   "id": "00756d13-624c-463e-b180-a02e55d4b620",
   "metadata": {},
   "outputs": [
    {
     "data": {
      "image/png": "[encoded data removed]",
      "text/plain": [
       "<Figure size 1200x800 with 2 Axes>"
      ]
     },
     "metadata": {},
     "output_type": "display_data"
    }
   ],
   "source": [
    "#5)\n",
    "# Selecionar apenas colunas numéricas para calcular a correlação\n",
    "df_numeric = df_cleaned.select_dtypes(include=['float64', 'int64'])\n",
    "\n",
    "# Calcular a matriz de correlação\n",
    "corr_matrix = df_numeric.corr()\n",
    "\n",
    "# Plotar a matriz de correlação\n",
    "plt.figure(figsize=(12, 8))\n",
    "sns.heatmap(corr_matrix, annot=True, cmap='coolwarm', fmt='.2f')\n",
    "plt.title('Mapa de Correlação dos Atributos Normalizados')\n",
    "plt.show()"
   ]
  },
  {
   "cell_type": "code",
   "execution_count": 9,
   "id": "d20e0a2a-d2ca-4b7f-9b45-80054bf9056d",
   "metadata": {},
   "outputs": [
    {
     "data": {
      "text/plain": [
       "'IMC = 22.483191977430625 + 0.29551479145047743 * Idade'"
      ]
     },
     "execution_count": 9,
     "metadata": {},
     "output_type": "execute_result"
    }
   ],
   "source": [
    "#6) \n",
    "#a)\n",
    "\n",
    "from sklearn.model_selection import train_test_split\n",
    "from sklearn.linear_model import LinearRegression\n",
    "\n",
    "# Divisão dos dados em treino e teste\n",
    "X = df[['Idade']]\n",
    "y = df['IMC']\n",
    "X_train, X_test, y_train, y_test = train_test_split(X, y, test_size=0.2, random_state=42)\n",
    "\n",
    "# Criação do modelo de regressão linear\n",
    "linear_regressor = LinearRegression()\n",
    "linear_regressor.fit(X_train, y_train)\n",
    "\n",
    "# Função linear resultante\n",
    "coeficiente = linear_regressor.coef_[0]\n",
    "intercepto = linear_regressor.intercept_\n",
    "\n",
    "f\"IMC = {intercepto} + {coeficiente} * Idade\""
   ]
  },
  {
   "cell_type": "code",
   "execution_count": 10,
   "id": "bc2592cf-cc58-4e15-a772-771a7a3c33d2",
   "metadata": {},
   "outputs": [
    {
     "data": {
      "image/png": "[encoded data removed]",
      "text/plain": [
       "<Figure size 1000x600 with 1 Axes>"
      ]
     },
     "metadata": {},
     "output_type": "display_data"
    }
   ],
   "source": [
    "#b)\n",
    "# Predições no conjunto de teste\n",
    "y_pred = linear_regressor.predict(X_test)\n",
    "\n",
    "# Visualização da reta de regressão\n",
    "plt.figure(figsize=(10, 6))\n",
    "plt.scatter(X_test, y_test, color='blue')\n",
    "plt.plot(X_test, y_pred, color='red', linewidth=2)\n",
    "plt.title('Regressão Linear Simples: IMC vs Idade')\n",
    "plt.xlabel('Idade')\n",
    "plt.ylabel('IMC')\n",
    "plt.show()"
   ]
  },
  {
   "cell_type": "code",
   "execution_count": 11,
   "id": "f4eff4d4-422d-4398-8c6f-531b4225cc5c",
   "metadata": {},
   "outputs": [
    {
     "data": {
      "text/plain": [
       "(6.548500510609817, 7.8498896126200375)"
      ]
     },
     "execution_count": 11,
     "metadata": {},
     "output_type": "execute_result"
    }
   ],
   "source": [
    "#c)\n",
    "from sklearn.metrics import mean_absolute_error, mean_squared_error\n",
    "import numpy as np\n",
    "\n",
    "# Avaliação do modelo\n",
    "mae = mean_absolute_error(y_test, y_pred)\n",
    "rmse = np.sqrt(mean_squared_error(y_test, y_pred))\n",
    "mae, rmse"
   ]
  },
  {
   "cell_type": "code",
   "execution_count": 12,
   "id": "4f501a81-dbf9-4e49-9bed-8bb7fd385b0f",
   "metadata": {},
   "outputs": [
    {
     "data": {
      "text/plain": [
       "(2.318533697206287, 2.8696855013574636)"
      ]
     },
     "execution_count": 12,
     "metadata": {},
     "output_type": "execute_result"
    }
   ],
   "source": [
    "#d)\n",
    "# Testar outra variável\n",
    "X_alternative = df[['Peso']]\n",
    "X_train_alt, X_test_alt, y_train_alt, y_test_alt = train_test_split(X_alternative, y, test_size=0.2, random_state=42)\n",
    "\n",
    "# Criação do modelo de regressão linear\n",
    "linear_regressor_alt = LinearRegression()\n",
    "linear_regressor_alt.fit(X_train_alt, y_train_alt)\n",
    "\n",
    "# Predições no conjunto de teste\n",
    "y_pred_alt = linear_regressor_alt.predict(X_test_alt)\n",
    "\n",
    "# Avaliação do modelo\n",
    "mae_alt = mean_absolute_error(y_test_alt, y_pred_alt)\n",
    "rmse_alt = np.sqrt(mean_squared_error(y_test_alt, y_pred_alt))\n",
    "mae_alt, rmse_alt"
   ]
  },
  {
   "cell_type": "code",
   "execution_count": 13,
   "id": "182cc813-a643-44a5-8496-e4c7e3a85bf1",
   "metadata": {},
   "outputs": [
    {
     "data": {
      "text/plain": [
       "(0.6308351963756391, 0.8211229894156361)"
      ]
     },
     "execution_count": 13,
     "metadata": {},
     "output_type": "execute_result"
    }
   ],
   "source": [
    "#7 a)\n",
    "# Regressão linear múltipla\n",
    "X_multi = df.drop(columns=['IMC', 'Label', 'Unnamed: 0', 'Genero', 'Historico_obesidade_familiar', 'FCCAC', 'CCER', 'Fumador', 'MCC', 'CBA', 'TRANS'])\n",
    "y_multi = df['IMC']\n",
    "X_train_multi, X_test_multi, y_train_multi, y_test_multi = train_test_split(X_multi, y_multi, test_size=0.2, random_state=42)\n",
    "\n",
    "linear_regressor_multi = LinearRegression()\n",
    "linear_regressor_multi.fit(X_train_multi, y_train_multi)\n",
    "y_pred_multi = linear_regressor_multi.predict(X_test_multi)\n",
    "\n",
    "mae_multi = mean_absolute_error(y_test_multi, y_pred_multi)\n",
    "rmse_multi = np.sqrt(mean_squared_error(y_test_multi, y_pred_multi))\n",
    "mae_multi, rmse_multi"
   ]
  },
  {
   "cell_type": "code",
   "execution_count": 14,
   "id": "fb97caeb-b86f-45ff-857f-4fcd56bc9a6d",
   "metadata": {},
   "outputs": [
    {
     "data": {
      "text/plain": [
       "(0.40398946812335756, 0.7119272679242219)"
      ]
     },
     "execution_count": 14,
     "metadata": {},
     "output_type": "execute_result"
    }
   ],
   "source": [
    "#b)\n",
    "from sklearn.tree import DecisionTreeRegressor\n",
    "\n",
    "# Árvore de regressão\n",
    "tree_regressor = DecisionTreeRegressor(random_state=42)\n",
    "tree_regressor.fit(X_train_multi, y_train_multi)\n",
    "y_pred_tree = tree_regressor.predict(X_test_multi)\n",
    "\n",
    "mae_tree = mean_absolute_error(y_test_multi, y_pred_tree)\n",
    "rmse_tree = np.sqrt(mean_squared_error(y_test_multi, y_pred_tree))\n",
    "mae_tree, rmse_tree"
   ]
  },
  {
   "cell_type": "code",
   "execution_count": 15,
   "id": "408aab15-c100-44a2-8700-f8513ff5ffdb",
   "metadata": {},
   "outputs": [
    {
     "data": {
      "text/plain": [
       "(1.5186688029490896, 1.8972905427238453)"
      ]
     },
     "execution_count": 15,
     "metadata": {},
     "output_type": "execute_result"
    }
   ],
   "source": [
    "#c)\n",
    "from sklearn.neural_network import MLPRegressor\n",
    "\n",
    "# Rede Neuronal\n",
    "mlp_regressor = MLPRegressor(random_state=42, max_iter=1000)\n",
    "mlp_regressor.fit(X_train_multi, y_train_multi)\n",
    "y_pred_mlp = mlp_regressor.predict(X_test_multi)\n",
    "\n",
    "mae_mlp = mean_absolute_error(y_test_multi, y_pred_mlp)\n",
    "rmse_mlp = np.sqrt(mean_squared_error(y_test_multi, y_pred_mlp))\n",
    "mae_mlp, rmse_mlp"
   ]
  },
  {
   "cell_type": "code",
   "execution_count": 16,
   "id": "8dfa1c8b-981f-4003-a341-5149f7c37394",
   "metadata": {},
   "outputs": [
    {
     "name": "stdout",
     "output_type": "stream",
     "text": [
      "                      Modelo       MAE      RMSE\n",
      "0   Regressão Linear Simples  6.548501  7.849890\n",
      "1  Regressão Linear Múltipla  0.630835  0.821123\n",
      "2        Árvore de Regressão  0.403989  0.711927\n",
      "3              Rede Neuronal  1.518669  1.897291\n"
     ]
    }
   ],
   "source": [
    "#8)\n",
    "# Comparação dos resultados\n",
    "resultados = pd.DataFrame({\n",
    "    'Modelo': ['Regressão Linear Simples', 'Regressão Linear Múltipla', 'Árvore de Regressão', 'Rede Neuronal'],\n",
    "    'MAE': [mae, mae_multi, mae_tree, mae_mlp],\n",
    "    'RMSE': [rmse, rmse_multi, rmse_tree, rmse_mlp]\n",
    "})\n",
    "\n",
    "# Exibir os resultados\n",
    "print(resultados)"
   ]
  },
  {
   "cell_type": "code",
   "execution_count": 17,
   "id": "0cf999e3-18a7-49e2-b673-c6f1322ff053",
   "metadata": {},
   "outputs": [
    {
     "ename": "FileNotFoundError",
     "evalue": "[Errno 2] No such file or directory: '/mnt/data/Dados_Trabalho_TP2.csv'",
     "output_type": "error",
     "traceback": [
      "\u001b[1;31m---------------------------------------------------------------------------\u001b[0m",
      "\u001b[1;31mFileNotFoundError\u001b[0m                         Traceback (most recent call last)",
      "Cell \u001b[1;32mIn[17], line 13\u001b[0m\n\u001b[0;32m     11\u001b[0m \u001b[38;5;66;03m# Carregar os dados\u001b[39;00m\n\u001b[0;32m     12\u001b[0m file_path \u001b[38;5;241m=\u001b[39m \u001b[38;5;124m'\u001b[39m\u001b[38;5;124m/mnt/data/Dados_Trabalho_TP2.csv\u001b[39m\u001b[38;5;124m'\u001b[39m\n\u001b[1;32m---> 13\u001b[0m df \u001b[38;5;241m=\u001b[39m pd\u001b[38;5;241m.\u001b[39mread_csv(file_path)\n\u001b[0;32m     15\u001b[0m \u001b[38;5;66;03m# Derivar o atributo IMC\u001b[39;00m\n\u001b[0;32m     16\u001b[0m df[\u001b[38;5;124m'\u001b[39m\u001b[38;5;124mIMC\u001b[39m\u001b[38;5;124m'\u001b[39m] \u001b[38;5;241m=\u001b[39m df[\u001b[38;5;124m'\u001b[39m\u001b[38;5;124mPeso\u001b[39m\u001b[38;5;124m'\u001b[39m] \u001b[38;5;241m/\u001b[39m ((df[\u001b[38;5;124m'\u001b[39m\u001b[38;5;124mAltura\u001b[39m\u001b[38;5;124m'\u001b[39m]) \u001b[38;5;241m*\u001b[39m\u001b[38;5;241m*\u001b[39m \u001b[38;5;241m2\u001b[39m)\n",
      "File \u001b[1;32m~\\anaconda3\\Lib\\site-packages\\pandas\\io\\parsers\\readers.py:948\u001b[0m, in \u001b[0;36mread_csv\u001b[1;34m(filepath_or_buffer, sep, delimiter, header, names, index_col, usecols, dtype, engine, converters, true_values, false_values, skipinitialspace, skiprows, skipfooter, nrows, na_values, keep_default_na, na_filter, verbose, skip_blank_lines, parse_dates, infer_datetime_format, keep_date_col, date_parser, date_format, dayfirst, cache_dates, iterator, chunksize, compression, thousands, decimal, lineterminator, quotechar, quoting, doublequote, escapechar, comment, encoding, encoding_errors, dialect, on_bad_lines, delim_whitespace, low_memory, memory_map, float_precision, storage_options, dtype_backend)\u001b[0m\n\u001b[0;32m    935\u001b[0m kwds_defaults \u001b[38;5;241m=\u001b[39m _refine_defaults_read(\n\u001b[0;32m    936\u001b[0m     dialect,\n\u001b[0;32m    937\u001b[0m     delimiter,\n\u001b[1;32m   (...)\u001b[0m\n\u001b[0;32m    944\u001b[0m     dtype_backend\u001b[38;5;241m=\u001b[39mdtype_backend,\n\u001b[0;32m    945\u001b[0m )\n\u001b[0;32m    946\u001b[0m kwds\u001b[38;5;241m.\u001b[39mupdate(kwds_defaults)\n\u001b[1;32m--> 948\u001b[0m \u001b[38;5;28;01mreturn\u001b[39;00m _read(filepath_or_buffer, kwds)\n",
      "File \u001b[1;32m~\\anaconda3\\Lib\\site-packages\\pandas\\io\\parsers\\readers.py:611\u001b[0m, in \u001b[0;36m_read\u001b[1;34m(filepath_or_buffer, kwds)\u001b[0m\n\u001b[0;32m    608\u001b[0m _validate_names(kwds\u001b[38;5;241m.\u001b[39mget(\u001b[38;5;124m\"\u001b[39m\u001b[38;5;124mnames\u001b[39m\u001b[38;5;124m\"\u001b[39m, \u001b[38;5;28;01mNone\u001b[39;00m))\n\u001b[0;32m    610\u001b[0m \u001b[38;5;66;03m# Create the parser.\u001b[39;00m\n\u001b[1;32m--> 611\u001b[0m parser \u001b[38;5;241m=\u001b[39m TextFileReader(filepath_or_buffer, \u001b[38;5;241m*\u001b[39m\u001b[38;5;241m*\u001b[39mkwds)\n\u001b[0;32m    613\u001b[0m \u001b[38;5;28;01mif\u001b[39;00m chunksize \u001b[38;5;129;01mor\u001b[39;00m iterator:\n\u001b[0;32m    614\u001b[0m     \u001b[38;5;28;01mreturn\u001b[39;00m parser\n",
      "File \u001b[1;32m~\\anaconda3\\Lib\\site-packages\\pandas\\io\\parsers\\readers.py:1448\u001b[0m, in \u001b[0;36mTextFileReader.__init__\u001b[1;34m(self, f, engine, **kwds)\u001b[0m\n\u001b[0;32m   1445\u001b[0m     \u001b[38;5;28mself\u001b[39m\u001b[38;5;241m.\u001b[39moptions[\u001b[38;5;124m\"\u001b[39m\u001b[38;5;124mhas_index_names\u001b[39m\u001b[38;5;124m\"\u001b[39m] \u001b[38;5;241m=\u001b[39m kwds[\u001b[38;5;124m\"\u001b[39m\u001b[38;5;124mhas_index_names\u001b[39m\u001b[38;5;124m\"\u001b[39m]\n\u001b[0;32m   1447\u001b[0m \u001b[38;5;28mself\u001b[39m\u001b[38;5;241m.\u001b[39mhandles: IOHandles \u001b[38;5;241m|\u001b[39m \u001b[38;5;28;01mNone\u001b[39;00m \u001b[38;5;241m=\u001b[39m \u001b[38;5;28;01mNone\u001b[39;00m\n\u001b[1;32m-> 1448\u001b[0m \u001b[38;5;28mself\u001b[39m\u001b[38;5;241m.\u001b[39m_engine \u001b[38;5;241m=\u001b[39m \u001b[38;5;28mself\u001b[39m\u001b[38;5;241m.\u001b[39m_make_engine(f, \u001b[38;5;28mself\u001b[39m\u001b[38;5;241m.\u001b[39mengine)\n",
      "File \u001b[1;32m~\\anaconda3\\Lib\\site-packages\\pandas\\io\\parsers\\readers.py:1705\u001b[0m, in \u001b[0;36mTextFileReader._make_engine\u001b[1;34m(self, f, engine)\u001b[0m\n\u001b[0;32m   1703\u001b[0m     \u001b[38;5;28;01mif\u001b[39;00m \u001b[38;5;124m\"\u001b[39m\u001b[38;5;124mb\u001b[39m\u001b[38;5;124m\"\u001b[39m \u001b[38;5;129;01mnot\u001b[39;00m \u001b[38;5;129;01min\u001b[39;00m mode:\n\u001b[0;32m   1704\u001b[0m         mode \u001b[38;5;241m+\u001b[39m\u001b[38;5;241m=\u001b[39m \u001b[38;5;124m\"\u001b[39m\u001b[38;5;124mb\u001b[39m\u001b[38;5;124m\"\u001b[39m\n\u001b[1;32m-> 1705\u001b[0m \u001b[38;5;28mself\u001b[39m\u001b[38;5;241m.\u001b[39mhandles \u001b[38;5;241m=\u001b[39m get_handle(\n\u001b[0;32m   1706\u001b[0m     f,\n\u001b[0;32m   1707\u001b[0m     mode,\n\u001b[0;32m   1708\u001b[0m     encoding\u001b[38;5;241m=\u001b[39m\u001b[38;5;28mself\u001b[39m\u001b[38;5;241m.\u001b[39moptions\u001b[38;5;241m.\u001b[39mget(\u001b[38;5;124m\"\u001b[39m\u001b[38;5;124mencoding\u001b[39m\u001b[38;5;124m\"\u001b[39m, \u001b[38;5;28;01mNone\u001b[39;00m),\n\u001b[0;32m   1709\u001b[0m     compression\u001b[38;5;241m=\u001b[39m\u001b[38;5;28mself\u001b[39m\u001b[38;5;241m.\u001b[39moptions\u001b[38;5;241m.\u001b[39mget(\u001b[38;5;124m\"\u001b[39m\u001b[38;5;124mcompression\u001b[39m\u001b[38;5;124m\"\u001b[39m, \u001b[38;5;28;01mNone\u001b[39;00m),\n\u001b[0;32m   1710\u001b[0m     memory_map\u001b[38;5;241m=\u001b[39m\u001b[38;5;28mself\u001b[39m\u001b[38;5;241m.\u001b[39moptions\u001b[38;5;241m.\u001b[39mget(\u001b[38;5;124m\"\u001b[39m\u001b[38;5;124mmemory_map\u001b[39m\u001b[38;5;124m\"\u001b[39m, \u001b[38;5;28;01mFalse\u001b[39;00m),\n\u001b[0;32m   1711\u001b[0m     is_text\u001b[38;5;241m=\u001b[39mis_text,\n\u001b[0;32m   1712\u001b[0m     errors\u001b[38;5;241m=\u001b[39m\u001b[38;5;28mself\u001b[39m\u001b[38;5;241m.\u001b[39moptions\u001b[38;5;241m.\u001b[39mget(\u001b[38;5;124m\"\u001b[39m\u001b[38;5;124mencoding_errors\u001b[39m\u001b[38;5;124m\"\u001b[39m, \u001b[38;5;124m\"\u001b[39m\u001b[38;5;124mstrict\u001b[39m\u001b[38;5;124m\"\u001b[39m),\n\u001b[0;32m   1713\u001b[0m     storage_options\u001b[38;5;241m=\u001b[39m\u001b[38;5;28mself\u001b[39m\u001b[38;5;241m.\u001b[39moptions\u001b[38;5;241m.\u001b[39mget(\u001b[38;5;124m\"\u001b[39m\u001b[38;5;124mstorage_options\u001b[39m\u001b[38;5;124m\"\u001b[39m, \u001b[38;5;28;01mNone\u001b[39;00m),\n\u001b[0;32m   1714\u001b[0m )\n\u001b[0;32m   1715\u001b[0m \u001b[38;5;28;01massert\u001b[39;00m \u001b[38;5;28mself\u001b[39m\u001b[38;5;241m.\u001b[39mhandles \u001b[38;5;129;01mis\u001b[39;00m \u001b[38;5;129;01mnot\u001b[39;00m \u001b[38;5;28;01mNone\u001b[39;00m\n\u001b[0;32m   1716\u001b[0m f \u001b[38;5;241m=\u001b[39m \u001b[38;5;28mself\u001b[39m\u001b[38;5;241m.\u001b[39mhandles\u001b[38;5;241m.\u001b[39mhandle\n",
      "File \u001b[1;32m~\\anaconda3\\Lib\\site-packages\\pandas\\io\\common.py:863\u001b[0m, in \u001b[0;36mget_handle\u001b[1;34m(path_or_buf, mode, encoding, compression, memory_map, is_text, errors, storage_options)\u001b[0m\n\u001b[0;32m    858\u001b[0m \u001b[38;5;28;01melif\u001b[39;00m \u001b[38;5;28misinstance\u001b[39m(handle, \u001b[38;5;28mstr\u001b[39m):\n\u001b[0;32m    859\u001b[0m     \u001b[38;5;66;03m# Check whether the filename is to be opened in binary mode.\u001b[39;00m\n\u001b[0;32m    860\u001b[0m     \u001b[38;5;66;03m# Binary mode does not support 'encoding' and 'newline'.\u001b[39;00m\n\u001b[0;32m    861\u001b[0m     \u001b[38;5;28;01mif\u001b[39;00m ioargs\u001b[38;5;241m.\u001b[39mencoding \u001b[38;5;129;01mand\u001b[39;00m \u001b[38;5;124m\"\u001b[39m\u001b[38;5;124mb\u001b[39m\u001b[38;5;124m\"\u001b[39m \u001b[38;5;129;01mnot\u001b[39;00m \u001b[38;5;129;01min\u001b[39;00m ioargs\u001b[38;5;241m.\u001b[39mmode:\n\u001b[0;32m    862\u001b[0m         \u001b[38;5;66;03m# Encoding\u001b[39;00m\n\u001b[1;32m--> 863\u001b[0m         handle \u001b[38;5;241m=\u001b[39m \u001b[38;5;28mopen\u001b[39m(\n\u001b[0;32m    864\u001b[0m             handle,\n\u001b[0;32m    865\u001b[0m             ioargs\u001b[38;5;241m.\u001b[39mmode,\n\u001b[0;32m    866\u001b[0m             encoding\u001b[38;5;241m=\u001b[39mioargs\u001b[38;5;241m.\u001b[39mencoding,\n\u001b[0;32m    867\u001b[0m             errors\u001b[38;5;241m=\u001b[39merrors,\n\u001b[0;32m    868\u001b[0m             newline\u001b[38;5;241m=\u001b[39m\u001b[38;5;124m\"\u001b[39m\u001b[38;5;124m\"\u001b[39m,\n\u001b[0;32m    869\u001b[0m         )\n\u001b[0;32m    870\u001b[0m     \u001b[38;5;28;01melse\u001b[39;00m:\n\u001b[0;32m    871\u001b[0m         \u001b[38;5;66;03m# Binary mode\u001b[39;00m\n\u001b[0;32m    872\u001b[0m         handle \u001b[38;5;241m=\u001b[39m \u001b[38;5;28mopen\u001b[39m(handle, ioargs\u001b[38;5;241m.\u001b[39mmode)\n",
      "\u001b[1;31mFileNotFoundError\u001b[0m: [Errno 2] No such file or directory: '/mnt/data/Dados_Trabalho_TP2.csv'"
     ]
    }
   ],
   "source": [
    "#9)\n",
    "\n",
    "\n",
    "#4.2\n",
    "\n",
    "#Preparação dos Dados\n",
    "import pandas as pd\n",
    "from sklearn.preprocessing import LabelEncoder\n",
    "from sklearn.model_selection import train_test_split, cross_val_score\n",
    "\n",
    "# Carregar os dados\n",
    "file_path = '/mnt/data/Dados_Trabalho_TP2.csv'\n",
    "df = pd.read_csv(file_path)\n",
    "\n",
    "# Derivar o atributo IMC\n",
    "df['IMC'] = df['Peso'] / ((df['Altura']) ** 2)\n",
    "\n",
    "# Selecionar os atributos relevantes e remover colunas desnecessárias\n",
    "X_class = df.drop(columns=['IMC', 'Label', 'Unnamed: 0', 'Genero', 'Historico_obesidade_familiar', 'FCCAC', 'CCER', 'Fumador', 'MCC', 'CBA', 'TRANS'])\n",
    "y_class = df['Label']\n",
    "\n",
    "# Codificação das labels\n",
    "le = LabelEncoder()\n",
    "y_class_encoded = le.fit_transform(y_class)\n",
    "\n",
    "# Dividir os dados em treino e teste\n",
    "X_train, X_test, y_train, y_test = train_test_split(X_class, y_class_encoded, test_size=0.2, random_state=42)"
   ]
  },
  {
   "cell_type": "code",
   "execution_count": null,
   "id": "6dda25aa-2faf-4bd8-bd6c-d4deb7af0541",
   "metadata": {},
   "outputs": [],
   "source": [
    "#ARVORE DE DECISAO\n",
    "\n",
    "from sklearn.tree import DecisionTreeClassifier\n",
    "from sklearn.model_selection import GridSearchCV\n",
    "\n",
    "# Definir o modelo de Árvore de Decisão\n",
    "tree_clf = DecisionTreeClassifier(random_state=42)\n",
    "\n",
    "# Definir a grade de parâmetros\n",
    "param_grid = {\n",
    "    'max_depth': [3, 5, 7, 10, None],\n",
    "    'min_samples_split': [2, 5, 10],\n",
    "    'min_samples_leaf': [1, 2, 4]\n",
    "}\n",
    "\n",
    "# Executar a busca em grade com validação cruzada\n",
    "grid_search_tree = GridSearchCV(tree_clf, param_grid, cv=5, scoring='accuracy')\n",
    "grid_search_tree.fit(X_train, y_train)\n",
    "\n",
    "# Melhor modelo encontrado\n",
    "best_tree_model = grid_search_tree.best_estimator_\n",
    "mean_score_tree = cross_val_score(best_tree_model, X_test, y_test, cv=5, scoring='accuracy').mean()\n",
    "mean_score_tree"
   ]
  },
  {
   "cell_type": "code",
   "execution_count": null,
   "id": "869c9eff-49be-43e5-9d9f-c04c8af67b08",
   "metadata": {},
   "outputs": [],
   "source": [
    "from sklearn.svm import SVC\n",
    "\n",
    "# Definir o modelo de SVM\n",
    "svm_clf = SVC(random_state=42)\n",
    "\n",
    "# Definir a grade de parâmetros\n",
    "param_grid_svm = {\n",
    "    'C': [0.1, 1, 10, 100],\n",
    "    'gamma': [1, 0.1, 0.01, 0.001],\n",
    "    'kernel': ['linear', 'poly', 'rbf', 'sigmoid']\n",
    "}\n",
    "\n",
    "# Executar a busca em grade com validação cruzada\n",
    "grid_search_svm = GridSearchCV(svm_clf, param_grid_svm, cv=5, scoring='accuracy')\n",
    "grid_search_svm.fit(X_train, y_train)\n",
    "\n",
    "# Melhor modelo encontrado\n",
    "best_svm_model = grid_search_svm.best_estimator_\n",
    "mean_score_svm = cross_val_score(best_svm_model, X_test, y_test, cv=5, scoring='accuracy').mean()\n",
    "\n",
    "mean_score_svm, grid_search_svm.best_params_"
   ]
  },
  {
   "cell_type": "code",
   "execution_count": null,
   "id": "7c112572-f100-485b-b5e7-dae5af2d50ca",
   "metadata": {},
   "outputs": [],
   "source": [
    "#rede Neuronal\n",
    "\n",
    "from keras.models import Sequential\n",
    "from keras.layers import Dense\n",
    "from keras.wrappers.scikit_learn import KerasClassifier\n",
    "from sklearn.model_selection import cross_val_score\n",
    "\n",
    "# Função para criar o modelo Keras\n",
    "def create_model(optimizer='adam', init='glorot_uniform'):\n",
    "    model = Sequential()\n",
    "    model.add(Dense(12, input_dim=X_train.shape[1], activation='relu', kernel_initializer=init))\n",
    "    model.add(Dense(8, activation='relu', kernel_initializer=init))\n",
    "    model.add(Dense(1, activation='sigmoid', kernel_initializer=init))\n",
    "    model.compile(loss='binary_crossentropy', optimizer=optimizer, metrics=['accuracy'])\n",
    "    return model\n",
    "\n",
    "# Envolver o modelo Keras para uso com scikit-learn\n",
    "keras_clf = KerasClassifier(build_fn=create_model, epochs=200, batch_size=10, verbose=0)\n",
    "\n",
    "# Definir a grade de parâmetros\n",
    "param_grid_nn = {\n",
    "    'optimizer': ['adam', 'rmsprop'],\n",
    "    'init': ['glorot_uniform', 'normal'],\n",
    "    'epochs': [50, 100, 200],\n",
    "    'batch_size': [5, 10, 20]\n",
    "}\n",
    "\n",
    "# Executar a busca em grade com validação cruzada\n",
    "grid_search_nn = GridSearchCV(estimator=keras_clf, param_grid=param_grid_nn, cv=5)\n",
    "grid_search_nn.fit(X_train, y_train)\n",
    "\n",
    "# Melhor modelo encontrado\n",
    "best_nn_model = grid_search_nn.best_estimator_\n",
    "mean_score_nn = cross_val_score(best_nn_model, X_test, y_test, cv=5, scoring='accuracy').mean()\n",
    "mean_score_nn"
   ]
  },
  {
   "cell_type": "code",
   "execution_count": null,
   "id": "a277b0f4-85d0-4acb-b9c6-f982509ea8ae",
   "metadata": {},
   "outputs": [],
   "source": [
    "#KKN\n",
    "from sklearn.neighbors import KNeighborsClassifier\n",
    "\n",
    "# Definir o modelo de KNN\n",
    "knn_clf = KNeighborsClassifier()\n",
    "\n",
    "# Definir a grade de parâmetros\n",
    "param_grid_knn = {\n",
    "    'n_neighbors': [3, 5, 7, 9],\n",
    "    'weights': ['uniform', 'distance'],\n",
    "    'metric': ['euclidean', 'manhattan']\n",
    "}\n",
    "\n",
    "# Executar a busca em grade com validação cruzada\n",
    "grid_search_knn = GridSearchCV(knn_clf, param_grid_knn, cv=5, scoring='accuracy')\n",
    "grid_search_knn.fit(X_train, y_train)\n",
    "\n",
    "# Melhor modelo encontrado\n",
    "best_knn_model = grid_search_knn.best_estimator_\n",
    "mean_score_knn = cross_val_score(best_knn_model, X_test, y_test, cv=5, scoring='accuracy').mean()\n",
    "mean_score_knn"
   ]
  },
  {
   "cell_type": "code",
   "execution_count": 22,
   "id": "dc250e50-4ea2-423e-a014-34d77dff0669",
   "metadata": {},
   "outputs": [
    {
     "ename": "KeyError",
     "evalue": "\"['IMC'] not found in axis\"",
     "output_type": "error",
     "traceback": [
      "\u001b[1;31m---------------------------------------------------------------------------\u001b[0m",
      "\u001b[1;31mKeyError\u001b[0m                                  Traceback (most recent call last)",
      "Cell \u001b[1;32mIn[22], line 17\u001b[0m\n\u001b[0;32m     14\u001b[0m df[\u001b[38;5;124m'\u001b[39m\u001b[38;5;124mGenero\u001b[39m\u001b[38;5;124m'\u001b[39m] \u001b[38;5;241m=\u001b[39m label_encoder\u001b[38;5;241m.\u001b[39mfit_transform(df[\u001b[38;5;124m'\u001b[39m\u001b[38;5;124mGenero\u001b[39m\u001b[38;5;124m'\u001b[39m])\n\u001b[0;32m     16\u001b[0m \u001b[38;5;66;03m# Select features and target\u001b[39;00m\n\u001b[1;32m---> 17\u001b[0m X \u001b[38;5;241m=\u001b[39m df\u001b[38;5;241m.\u001b[39mdrop(columns\u001b[38;5;241m=\u001b[39m[\u001b[38;5;124m'\u001b[39m\u001b[38;5;124mIMC\u001b[39m\u001b[38;5;124m'\u001b[39m, \u001b[38;5;124m'\u001b[39m\u001b[38;5;124mLabel\u001b[39m\u001b[38;5;124m'\u001b[39m, \u001b[38;5;124m'\u001b[39m\u001b[38;5;124mUnnamed: 0\u001b[39m\u001b[38;5;124m'\u001b[39m, \u001b[38;5;124m'\u001b[39m\u001b[38;5;124mHistorico_obesidade_familiar\u001b[39m\u001b[38;5;124m'\u001b[39m, \u001b[38;5;124m'\u001b[39m\u001b[38;5;124mFCCAC\u001b[39m\u001b[38;5;124m'\u001b[39m, \u001b[38;5;124m'\u001b[39m\u001b[38;5;124mCCER\u001b[39m\u001b[38;5;124m'\u001b[39m, \u001b[38;5;124m'\u001b[39m\u001b[38;5;124mFumador\u001b[39m\u001b[38;5;124m'\u001b[39m, \u001b[38;5;124m'\u001b[39m\u001b[38;5;124mMCC\u001b[39m\u001b[38;5;124m'\u001b[39m, \u001b[38;5;124m'\u001b[39m\u001b[38;5;124mCBA\u001b[39m\u001b[38;5;124m'\u001b[39m, \u001b[38;5;124m'\u001b[39m\u001b[38;5;124mTRANS\u001b[39m\u001b[38;5;124m'\u001b[39m])\n\u001b[0;32m     18\u001b[0m y \u001b[38;5;241m=\u001b[39m df[\u001b[38;5;124m'\u001b[39m\u001b[38;5;124mGenero\u001b[39m\u001b[38;5;124m'\u001b[39m]\n\u001b[0;32m     20\u001b[0m \u001b[38;5;66;03m# Split the data into training and testing sets\u001b[39;00m\n",
      "File \u001b[1;32m~\\anaconda3\\Lib\\site-packages\\pandas\\core\\frame.py:5344\u001b[0m, in \u001b[0;36mDataFrame.drop\u001b[1;34m(self, labels, axis, index, columns, level, inplace, errors)\u001b[0m\n\u001b[0;32m   5196\u001b[0m \u001b[38;5;28;01mdef\u001b[39;00m \u001b[38;5;21mdrop\u001b[39m(\n\u001b[0;32m   5197\u001b[0m     \u001b[38;5;28mself\u001b[39m,\n\u001b[0;32m   5198\u001b[0m     labels: IndexLabel \u001b[38;5;241m|\u001b[39m \u001b[38;5;28;01mNone\u001b[39;00m \u001b[38;5;241m=\u001b[39m \u001b[38;5;28;01mNone\u001b[39;00m,\n\u001b[1;32m   (...)\u001b[0m\n\u001b[0;32m   5205\u001b[0m     errors: IgnoreRaise \u001b[38;5;241m=\u001b[39m \u001b[38;5;124m\"\u001b[39m\u001b[38;5;124mraise\u001b[39m\u001b[38;5;124m\"\u001b[39m,\n\u001b[0;32m   5206\u001b[0m ) \u001b[38;5;241m-\u001b[39m\u001b[38;5;241m>\u001b[39m DataFrame \u001b[38;5;241m|\u001b[39m \u001b[38;5;28;01mNone\u001b[39;00m:\n\u001b[0;32m   5207\u001b[0m \u001b[38;5;250m    \u001b[39m\u001b[38;5;124;03m\"\"\"\u001b[39;00m\n\u001b[0;32m   5208\u001b[0m \u001b[38;5;124;03m    Drop specified labels from rows or columns.\u001b[39;00m\n\u001b[0;32m   5209\u001b[0m \n\u001b[1;32m   (...)\u001b[0m\n\u001b[0;32m   5342\u001b[0m \u001b[38;5;124;03m            weight  1.0     0.8\u001b[39;00m\n\u001b[0;32m   5343\u001b[0m \u001b[38;5;124;03m    \"\"\"\u001b[39;00m\n\u001b[1;32m-> 5344\u001b[0m     \u001b[38;5;28;01mreturn\u001b[39;00m \u001b[38;5;28msuper\u001b[39m()\u001b[38;5;241m.\u001b[39mdrop(\n\u001b[0;32m   5345\u001b[0m         labels\u001b[38;5;241m=\u001b[39mlabels,\n\u001b[0;32m   5346\u001b[0m         axis\u001b[38;5;241m=\u001b[39maxis,\n\u001b[0;32m   5347\u001b[0m         index\u001b[38;5;241m=\u001b[39mindex,\n\u001b[0;32m   5348\u001b[0m         columns\u001b[38;5;241m=\u001b[39mcolumns,\n\u001b[0;32m   5349\u001b[0m         level\u001b[38;5;241m=\u001b[39mlevel,\n\u001b[0;32m   5350\u001b[0m         inplace\u001b[38;5;241m=\u001b[39minplace,\n\u001b[0;32m   5351\u001b[0m         errors\u001b[38;5;241m=\u001b[39merrors,\n\u001b[0;32m   5352\u001b[0m     )\n",
      "File \u001b[1;32m~\\anaconda3\\Lib\\site-packages\\pandas\\core\\generic.py:4711\u001b[0m, in \u001b[0;36mNDFrame.drop\u001b[1;34m(self, labels, axis, index, columns, level, inplace, errors)\u001b[0m\n\u001b[0;32m   4709\u001b[0m \u001b[38;5;28;01mfor\u001b[39;00m axis, labels \u001b[38;5;129;01min\u001b[39;00m axes\u001b[38;5;241m.\u001b[39mitems():\n\u001b[0;32m   4710\u001b[0m     \u001b[38;5;28;01mif\u001b[39;00m labels \u001b[38;5;129;01mis\u001b[39;00m \u001b[38;5;129;01mnot\u001b[39;00m \u001b[38;5;28;01mNone\u001b[39;00m:\n\u001b[1;32m-> 4711\u001b[0m         obj \u001b[38;5;241m=\u001b[39m obj\u001b[38;5;241m.\u001b[39m_drop_axis(labels, axis, level\u001b[38;5;241m=\u001b[39mlevel, errors\u001b[38;5;241m=\u001b[39merrors)\n\u001b[0;32m   4713\u001b[0m \u001b[38;5;28;01mif\u001b[39;00m inplace:\n\u001b[0;32m   4714\u001b[0m     \u001b[38;5;28mself\u001b[39m\u001b[38;5;241m.\u001b[39m_update_inplace(obj)\n",
      "File \u001b[1;32m~\\anaconda3\\Lib\\site-packages\\pandas\\core\\generic.py:4753\u001b[0m, in \u001b[0;36mNDFrame._drop_axis\u001b[1;34m(self, labels, axis, level, errors, only_slice)\u001b[0m\n\u001b[0;32m   4751\u001b[0m         new_axis \u001b[38;5;241m=\u001b[39m axis\u001b[38;5;241m.\u001b[39mdrop(labels, level\u001b[38;5;241m=\u001b[39mlevel, errors\u001b[38;5;241m=\u001b[39merrors)\n\u001b[0;32m   4752\u001b[0m     \u001b[38;5;28;01melse\u001b[39;00m:\n\u001b[1;32m-> 4753\u001b[0m         new_axis \u001b[38;5;241m=\u001b[39m axis\u001b[38;5;241m.\u001b[39mdrop(labels, errors\u001b[38;5;241m=\u001b[39merrors)\n\u001b[0;32m   4754\u001b[0m     indexer \u001b[38;5;241m=\u001b[39m axis\u001b[38;5;241m.\u001b[39mget_indexer(new_axis)\n\u001b[0;32m   4756\u001b[0m \u001b[38;5;66;03m# Case for non-unique axis\u001b[39;00m\n\u001b[0;32m   4757\u001b[0m \u001b[38;5;28;01melse\u001b[39;00m:\n",
      "File \u001b[1;32m~\\anaconda3\\Lib\\site-packages\\pandas\\core\\indexes\\base.py:7000\u001b[0m, in \u001b[0;36mIndex.drop\u001b[1;34m(self, labels, errors)\u001b[0m\n\u001b[0;32m   6998\u001b[0m \u001b[38;5;28;01mif\u001b[39;00m mask\u001b[38;5;241m.\u001b[39many():\n\u001b[0;32m   6999\u001b[0m     \u001b[38;5;28;01mif\u001b[39;00m errors \u001b[38;5;241m!=\u001b[39m \u001b[38;5;124m\"\u001b[39m\u001b[38;5;124mignore\u001b[39m\u001b[38;5;124m\"\u001b[39m:\n\u001b[1;32m-> 7000\u001b[0m         \u001b[38;5;28;01mraise\u001b[39;00m \u001b[38;5;167;01mKeyError\u001b[39;00m(\u001b[38;5;124mf\u001b[39m\u001b[38;5;124m\"\u001b[39m\u001b[38;5;132;01m{\u001b[39;00mlabels[mask]\u001b[38;5;241m.\u001b[39mtolist()\u001b[38;5;132;01m}\u001b[39;00m\u001b[38;5;124m not found in axis\u001b[39m\u001b[38;5;124m\"\u001b[39m)\n\u001b[0;32m   7001\u001b[0m     indexer \u001b[38;5;241m=\u001b[39m indexer[\u001b[38;5;241m~\u001b[39mmask]\n\u001b[0;32m   7002\u001b[0m \u001b[38;5;28;01mreturn\u001b[39;00m \u001b[38;5;28mself\u001b[39m\u001b[38;5;241m.\u001b[39mdelete(indexer)\n",
      "\u001b[1;31mKeyError\u001b[0m: \"['IMC'] not found in axis\""
     ]
    }
   ],
   "source": [
    "#Comparação dos resultados dos modelos\n",
    "\n",
    "# Criar um DataFrame com os resultados\n",
    "resultados_classificacao = pd.DataFrame({\n",
    "    'Modelo': ['Árvore de Decisão', 'SVM', 'Rede Neuronal', 'KNN'],\n",
    "    'Média de Accuracy': [mean_score_tree, mean_score_svm, mean_score_nn, mean_score_knn],\n",
    "    'Desvio Padrão': [grid_search_tree.cv_results_['std_test_score'][grid_search_tree.best_index_],\n",
    "                      grid_search_svm.cv_results_['std_test_score'][grid_search_svm.best_index_],\n",
    "                      grid_search_nn.cv_results_['std_test_score'][grid_search_nn.best_index_],\n",
    "                      grid_search_knn.cv_results_['std_test_score'][grid_search_knn.best_index_]]\n",
    "})\n",
    "\n",
    "# Exibir os resultados\n",
    "print(resultados_classificacao)"
   ]
  },
  {
   "cell_type": "code",
   "execution_count": 23,
   "id": "9715d8a6-e7a9-4a75-b37e-1095b2065076",
   "metadata": {},
   "outputs": [
    {
     "ename": "ModuleNotFoundError",
     "evalue": "No module named 'keras'",
     "output_type": "error",
     "traceback": [
      "\u001b[1;31m---------------------------------------------------------------------------\u001b[0m",
      "\u001b[1;31mModuleNotFoundError\u001b[0m                       Traceback (most recent call last)",
      "Cell \u001b[1;32mIn[23], line 7\u001b[0m\n\u001b[0;32m      5\u001b[0m \u001b[38;5;28;01mfrom\u001b[39;00m \u001b[38;5;21;01msklearn\u001b[39;00m\u001b[38;5;21;01m.\u001b[39;00m\u001b[38;5;21;01msvm\u001b[39;00m \u001b[38;5;28;01mimport\u001b[39;00m SVC\n\u001b[0;32m      6\u001b[0m \u001b[38;5;28;01mfrom\u001b[39;00m \u001b[38;5;21;01msklearn\u001b[39;00m\u001b[38;5;21;01m.\u001b[39;00m\u001b[38;5;21;01mmetrics\u001b[39;00m \u001b[38;5;28;01mimport\u001b[39;00m accuracy_score, recall_score, precision_score, f1_score, confusion_matrix\n\u001b[1;32m----> 7\u001b[0m \u001b[38;5;28;01mfrom\u001b[39;00m \u001b[38;5;21;01mkeras\u001b[39;00m\u001b[38;5;21;01m.\u001b[39;00m\u001b[38;5;21;01mmodels\u001b[39;00m \u001b[38;5;28;01mimport\u001b[39;00m Sequential\n\u001b[0;32m      8\u001b[0m \u001b[38;5;28;01mfrom\u001b[39;00m \u001b[38;5;21;01mkeras\u001b[39;00m\u001b[38;5;21;01m.\u001b[39;00m\u001b[38;5;21;01mlayers\u001b[39;00m \u001b[38;5;28;01mimport\u001b[39;00m Dense\n\u001b[0;32m      9\u001b[0m \u001b[38;5;28;01mfrom\u001b[39;00m \u001b[38;5;21;01mkeras\u001b[39;00m\u001b[38;5;21;01m.\u001b[39;00m\u001b[38;5;21;01mwrappers\u001b[39;00m\u001b[38;5;21;01m.\u001b[39;00m\u001b[38;5;21;01mscikit_learn\u001b[39;00m \u001b[38;5;28;01mimport\u001b[39;00m KerasClassifier\n",
      "\u001b[1;31mModuleNotFoundError\u001b[0m: No module named 'keras'"
     ]
    }
   ],
   "source": [
    "import pandas as pd\n",
    "import numpy as np\n",
    "from sklearn.model_selection import train_test_split, cross_val_score, cross_val_predict\n",
    "from sklearn.preprocessing import StandardScaler, LabelEncoder\n",
    "from sklearn.svm import SVC\n",
    "from sklearn.metrics import accuracy_score, recall_score, precision_score, f1_score, confusion_matrix\n",
    "from keras.models import Sequential\n",
    "from keras.layers import Dense\n",
    "from keras.wrappers.scikit_learn import KerasClassifier\n",
    "from scipy import stats\n",
    "\n",
    "# Load the dataset\n",
    "df = pd.read_csv('Dados_Trabalho_TP2.csv')\n",
    "\n",
    "# Encode the 'Genero' attribute\n",
    "label_encoder = LabelEncoder()\n",
    "df['Genero'] = label_encoder.fit_transform(df['Genero'])\n",
    "\n",
    "# Select features and target\n",
    "X = df.drop(columns=['IMC', 'Label', 'Unnamed: 0', 'Historico_obesidade_familiar', 'FCCAC', 'CCER', 'Fumador', 'MCC', 'CBA', 'TRANS'])\n",
    "y = df['Genero']\n",
    "\n",
    "# Split the data into training and testing sets\n",
    "X_train, X_test, y_train, y_test = train_test_split(X, y, test_size=0.2, random_state=42)\n",
    "\n",
    "# Normalize the data\n",
    "scaler = StandardScaler()\n",
    "X_train = scaler.fit_transform(X_train)\n",
    "X_test = scaler.transform(X_test)\n",
    "\n",
    "# Function to create Neural Network model\n",
    "def create_model(optimizer='adam', activation='relu'):\n",
    "    model = Sequential()\n",
    "    model.add(Dense(12, input_dim=X_train.shape[1], activation=activation))\n",
    "    model.add(Dense(8, activation=activation))\n",
    "    model.add(Dense(1, activation='sigmoid'))\n",
    "    model.compile(optimizer=optimizer, loss='binary_crossentropy', metrics=['accuracy'])\n",
    "    return model\n",
    "\n",
    "# Neural Network model\n",
    "nn_model = KerasClassifier(build_fn=create_model, epochs=50, batch_size=20, verbose=0)\n",
    "nn_scores = cross_val_score(nn_model, X_train, y_train, cv=5, scoring='accuracy')\n",
    "mean_score_nn = np.mean(nn_scores)\n",
    "std_score_nn = np.std(nn_scores)\n",
    "\n",
    "# SVM model\n",
    "svm_model = SVC(random_state=42, kernel='rbf', C=1, gamma='scale')\n",
    "svm_scores = cross_val_score(svm_model, X_train, y_train, cv=5, scoring='accuracy')\n",
    "mean_score_svm = np.mean(svm_scores)\n",
    "std_score_svm = np.std(svm_scores)\n",
    "\n",
    "# Perform statistical significance test\n",
    "t_statistic, p_value = stats.ttest_ind(nn_scores, svm_scores)\n",
    "\n",
    "# Additional performance metrics\n",
    "def get_metrics(model, X, y):\n",
    "    y_pred = cross_val_predict(model, X, y, cv=5)\n",
    "    accuracy = accuracy_score(y, y_pred)\n",
    "    sensitivity = recall_score(y, y_pred)\n",
    "    tn, fp, fn, tp = confusion_matrix(y, y_pred).ravel()\n",
    "    specificity = tn / (tn + fp)\n",
    "    f1 = f1_score(y, y_pred)\n",
    "    return accuracy, sensitivity, specificity, f1\n",
    "\n",
    "# Evaluate metrics for Neural Network\n",
    "nn_model.fit(X_train, y_train)\n",
    "nn_accuracy, nn_sensitivity, nn_specificity, nn_f1 = get_metrics(nn_model, X_train, y_train)\n",
    "\n",
    "# Evaluate metrics for SVM\n",
    "svm_model.fit(X_train, y_train)\n",
    "svm_accuracy, svm_sensitivity, svm_specificity, svm_f1 = get_metrics(svm_model, X_train, y_train)\n",
    "\n",
    "# Print results\n",
    "print(\"Neural Network - Mean Accuracy: {:.2f}, Std: {:.2f}\".format(mean_score_nn, std_score_nn))\n",
    "print(\"SVM - Mean Accuracy: {:.2f}, Std: {:.2f}\".format(mean_score_svm, std_score_svm))\n",
    "print(\"P-value from statistical significance test: {:.5f}\".format(p_value))\n",
    "\n",
    "print(\"Neural Network - Accuracy: {:.2f}, Sensitivity: {:.2f}, Specificity: {:.2f}, F1 Score: {:.2f}\".format(nn_accuracy, nn_sensitivity, nn_specificity, nn_f1))\n",
    "print(\"SVM - Accuracy: {:.2f}, Sensitivity: {:.2f}, Specificity: {:.2f}, F1 Score: {:.2f}\".format(svm_accuracy, svm_sensitivity, svm_specificity, svm_f1))\n",
    "Explanation"
   ]
  }
 ],
 "metadata": {
  "kernelspec": {
   "display_name": "Python 3 (ipykernel)",
   "language": "python",
   "name": "python3"
  },
  "language_info": {
   "codemirror_mode": {
    "name": "ipython",
    "version": 3
   },
   "file_extension": ".py",
   "mimetype": "text/x-python",
   "name": "python",
   "nbconvert_exporter": "python",
   "pygments_lexer": "ipython3",
   "version": "3.11.7"
  }
 },
 "nbformat": 4,
 "nbformat_minor": 5
}
